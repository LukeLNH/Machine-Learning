{
 "cells": [
  {
   "cell_type": "code",
   "execution_count": 2,
   "metadata": {},
   "outputs": [],
   "source": [
    "class Standardization():\n",
    "    def __init__(self, mat):\n",
    "        self.mat = mat\n",
    "        print(mat)\n",
    "    def Standardize_Values(self,column_index_list):\n",
    "        matt = self.mat\n",
    "        for i in range(len(column_index_list)):\n",
    "            matt[:,column_index_list[i]] = (matt[:,column_index_list[i]] - matt[:,column_index_list[i]].mean())/matt[:,column_index_list[i]].std()\n",
    "        return matt"
   ]
  },
  {
   "cell_type": "code",
   "execution_count": null,
   "metadata": {},
   "outputs": [],
   "source": []
  }
 ],
 "metadata": {
  "kernelspec": {
   "display_name": "Python 3",
   "language": "python",
   "name": "python3"
  },
  "language_info": {
   "codemirror_mode": {
    "name": "ipython",
    "version": 3
   },
   "file_extension": ".py",
   "mimetype": "text/x-python",
   "name": "python",
   "nbconvert_exporter": "python",
   "pygments_lexer": "ipython3",
   "version": "3.6.5"
  }
 },
 "nbformat": 4,
 "nbformat_minor": 2
}
