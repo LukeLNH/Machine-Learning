{
 "cells": [
  {
   "cell_type": "markdown",
   "metadata": {},
   "source": [
    "Extra Credit: Create a function in python that performs 25 iterations of gradient descent on f.  The function should return the estimated x-value and its corresponding y-value. (f(x) = x^2 - 4x + 5)."
   ]
  },
  {
   "cell_type": "code",
   "execution_count": 1,
   "metadata": {},
   "outputs": [
    {
     "data": {
      "text/plain": [
       "2*x - 4"
      ]
     },
     "execution_count": 1,
     "metadata": {},
     "output_type": "execute_result"
    }
   ],
   "source": [
    "#how to SYMBOLICALLY differentiate in python \n",
    "import sympy as sp\n",
    "x = sp.Symbol(\"x\") #telling what to differentiate with respect to. \"Symbol\" HAS to be capitalized\n",
    "sp.diff(x**2 - 4*x + 5, x) "
   ]
  },
  {
   "cell_type": "code",
   "execution_count": 2,
   "metadata": {},
   "outputs": [],
   "source": [
    "import numpy as np\n",
    "from scipy.misc import derivative"
   ]
  },
  {
   "cell_type": "code",
   "execution_count": 3,
   "metadata": {},
   "outputs": [],
   "source": [
    "def f(x):\n",
    "    return x**2 - 4*x + 5"
   ]
  },
  {
   "cell_type": "code",
   "execution_count": 4,
   "metadata": {},
   "outputs": [],
   "source": [
    "def gradient_descent(f, iteration_num, learning_rate):\n",
    "    x1 = np.random.randint(0,1000)\n",
    "    for i in range(iteration_num):\n",
    "        x1 -= (learning_rate)*(derivative(f,x1))\n",
    "    return x1, f(x1)"
   ]
  },
  {
   "cell_type": "code",
   "execution_count": 5,
   "metadata": {},
   "outputs": [
    {
     "data": {
      "text/plain": [
       "(2.0014613168047384, 1.0000021354468034)"
      ]
     },
     "execution_count": 5,
     "metadata": {},
     "output_type": "execute_result"
    }
   ],
   "source": [
    "gradient_descent(f,25,0.2)"
   ]
  },
  {
   "cell_type": "code",
   "execution_count": null,
   "metadata": {},
   "outputs": [],
   "source": []
  },
  {
   "cell_type": "code",
   "execution_count": 6,
   "metadata": {},
   "outputs": [],
   "source": [
    "#Gradient Descent"
   ]
  },
  {
   "cell_type": "code",
   "execution_count": 7,
   "metadata": {},
   "outputs": [],
   "source": [
    "import numpy as np\n",
    "import pandas as pd"
   ]
  },
  {
   "cell_type": "code",
   "execution_count": 8,
   "metadata": {},
   "outputs": [
    {
     "data": {
      "text/html": [
       "<div>\n",
       "<style scoped>\n",
       "    .dataframe tbody tr th:only-of-type {\n",
       "        vertical-align: middle;\n",
       "    }\n",
       "\n",
       "    .dataframe tbody tr th {\n",
       "        vertical-align: top;\n",
       "    }\n",
       "\n",
       "    .dataframe thead th {\n",
       "        text-align: right;\n",
       "    }\n",
       "</style>\n",
       "<table border=\"1\" class=\"dataframe\">\n",
       "  <thead>\n",
       "    <tr style=\"text-align: right;\">\n",
       "      <th></th>\n",
       "      <th>is_mobile</th>\n",
       "      <th>n_products_viewed</th>\n",
       "      <th>visit_duration</th>\n",
       "      <th>is_returning_visitor</th>\n",
       "      <th>time_of_day</th>\n",
       "      <th>user_action</th>\n",
       "    </tr>\n",
       "  </thead>\n",
       "  <tbody>\n",
       "    <tr>\n",
       "      <th>0</th>\n",
       "      <td>1</td>\n",
       "      <td>0</td>\n",
       "      <td>0.657510</td>\n",
       "      <td>0</td>\n",
       "      <td>3</td>\n",
       "      <td>0</td>\n",
       "    </tr>\n",
       "    <tr>\n",
       "      <th>1</th>\n",
       "      <td>1</td>\n",
       "      <td>1</td>\n",
       "      <td>0.568571</td>\n",
       "      <td>0</td>\n",
       "      <td>2</td>\n",
       "      <td>1</td>\n",
       "    </tr>\n",
       "    <tr>\n",
       "      <th>2</th>\n",
       "      <td>1</td>\n",
       "      <td>0</td>\n",
       "      <td>0.042246</td>\n",
       "      <td>1</td>\n",
       "      <td>1</td>\n",
       "      <td>0</td>\n",
       "    </tr>\n",
       "    <tr>\n",
       "      <th>3</th>\n",
       "      <td>1</td>\n",
       "      <td>1</td>\n",
       "      <td>1.659793</td>\n",
       "      <td>1</td>\n",
       "      <td>1</td>\n",
       "      <td>2</td>\n",
       "    </tr>\n",
       "    <tr>\n",
       "      <th>4</th>\n",
       "      <td>0</td>\n",
       "      <td>1</td>\n",
       "      <td>2.014745</td>\n",
       "      <td>1</td>\n",
       "      <td>1</td>\n",
       "      <td>2</td>\n",
       "    </tr>\n",
       "  </tbody>\n",
       "</table>\n",
       "</div>"
      ],
      "text/plain": [
       "   is_mobile  n_products_viewed  visit_duration  is_returning_visitor  \\\n",
       "0          1                  0        0.657510                     0   \n",
       "1          1                  1        0.568571                     0   \n",
       "2          1                  0        0.042246                     1   \n",
       "3          1                  1        1.659793                     1   \n",
       "4          0                  1        2.014745                     1   \n",
       "\n",
       "   time_of_day  user_action  \n",
       "0            3            0  \n",
       "1            2            1  \n",
       "2            1            0  \n",
       "3            1            2  \n",
       "4            1            2  "
      ]
     },
     "execution_count": 8,
     "metadata": {},
     "output_type": "execute_result"
    }
   ],
   "source": [
    "data = pd.read_csv(\"ecommerce_data.csv\")\n",
    "data.head()\n",
    "#data that will be used. Targets will be binary values of user_action column, features will be the all other columns."
   ]
  },
  {
   "cell_type": "code",
   "execution_count": 9,
   "metadata": {},
   "outputs": [
    {
     "data": {
      "text/plain": [
       "array([[1.        , 0.        , 0.65750995, 0.        , 3.        ,\n",
       "        0.        ],\n",
       "       [1.        , 1.        , 0.56857123, 0.        , 2.        ,\n",
       "        1.        ],\n",
       "       [1.        , 0.        , 0.042246  , 1.        , 1.        ,\n",
       "        0.        ],\n",
       "       ...,\n",
       "       [0.        , 0.        , 0.1728534 , 1.        , 3.        ,\n",
       "        0.        ],\n",
       "       [1.        , 0.        , 0.2099644 , 0.        , 3.        ,\n",
       "        0.        ],\n",
       "       [0.        , 0.        , 2.61688195, 1.        , 3.        ,\n",
       "        0.        ]])"
      ]
     },
     "execution_count": 9,
     "metadata": {},
     "output_type": "execute_result"
    }
   ],
   "source": [
    "data2 = np.copy(data)\n",
    "data2\n",
    "#This is important to get the right shape (tuple form) for the targets. HAS TO BE (500,), not (1,500)\n",
    "    #(Because we are trying to get only the binary values of the targets)"
   ]
  },
  {
   "cell_type": "code",
   "execution_count": 10,
   "metadata": {},
   "outputs": [
    {
     "data": {
      "text/plain": [
       "(500,)"
      ]
     },
     "execution_count": 10,
     "metadata": {},
     "output_type": "execute_result"
    }
   ],
   "source": [
    "targets = data2[:,-1]\n",
    "targets.shape\n",
    "#targets of the data\n",
    "#!!! Note the shape"
   ]
  },
  {
   "cell_type": "code",
   "execution_count": 11,
   "metadata": {},
   "outputs": [],
   "source": [
    "X = data2[:,:-2]\n",
    "#All features except for one hot encoded column"
   ]
  },
  {
   "cell_type": "code",
   "execution_count": 12,
   "metadata": {},
   "outputs": [
    {
     "data": {
      "text/plain": [
       "array([[0., 0., 1., 0.],\n",
       "       [0., 1., 0., 0.],\n",
       "       [1., 0., 0., 0.],\n",
       "       ...,\n",
       "       [0., 0., 1., 0.],\n",
       "       [0., 0., 1., 0.],\n",
       "       [0., 0., 1., 0.]])"
      ]
     },
     "execution_count": 12,
     "metadata": {},
     "output_type": "execute_result"
    }
   ],
   "source": [
    "ohe_column = data2[:,-2].reshape(500,1)\n",
    "N,D = ohe_column.shape\n",
    "zero = np.zeros((N,D+3))\n",
    "zero[np.arange(N),(ohe_column[:,0]-1).astype(int)] = 1\n",
    "zero\n",
    "#one hot encoding the categorical column\n",
    "#!!!Note that there is no need to one hot encode columns of index [0] and [3] because they are already binary in value."
   ]
  },
  {
   "cell_type": "code",
   "execution_count": 13,
   "metadata": {},
   "outputs": [
    {
     "data": {
      "text/plain": [
       "array([[1.        , 0.        , 0.65750995, ..., 0.        , 1.        ,\n",
       "        0.        ],\n",
       "       [1.        , 1.        , 0.56857123, ..., 1.        , 0.        ,\n",
       "        0.        ],\n",
       "       [1.        , 0.        , 0.042246  , ..., 0.        , 0.        ,\n",
       "        0.        ],\n",
       "       ...,\n",
       "       [0.        , 0.        , 0.1728534 , ..., 0.        , 1.        ,\n",
       "        0.        ],\n",
       "       [1.        , 0.        , 0.2099644 , ..., 0.        , 1.        ,\n",
       "        0.        ],\n",
       "       [0.        , 0.        , 2.61688195, ..., 0.        , 1.        ,\n",
       "        0.        ]])"
      ]
     },
     "execution_count": 13,
     "metadata": {},
     "output_type": "execute_result"
    }
   ],
   "source": [
    "X = np.hstack((X,zero))\n",
    "X = X[targets <= 1]\n",
    "X\n",
    "#making all the features and removing data with non-binary targets"
   ]
  },
  {
   "cell_type": "code",
   "execution_count": 14,
   "metadata": {},
   "outputs": [],
   "source": [
    "N,D = X.shape"
   ]
  },
  {
   "cell_type": "code",
   "execution_count": 15,
   "metadata": {},
   "outputs": [
    {
     "data": {
      "text/plain": [
       "(398,)"
      ]
     },
     "execution_count": 15,
     "metadata": {},
     "output_type": "execute_result"
    }
   ],
   "source": [
    "targets = targets[targets <= 1]\n",
    "targets.shape\n",
    "#target data, with only binary values of targets"
   ]
  },
  {
   "cell_type": "code",
   "execution_count": 16,
   "metadata": {},
   "outputs": [],
   "source": [
    "def standardize(data,col_list):\n",
    "    for i in range(len(col_list)):\n",
    "        data[:,col_list[i]] = (data[:,col_list[i]] - data[:,col_list[i]].mean())/data[:,col_list[i]].std()\n",
    "    return data"
   ]
  },
  {
   "cell_type": "code",
   "execution_count": 17,
   "metadata": {},
   "outputs": [
    {
     "data": {
      "text/plain": [
       "array([[ 1.        , -0.67398867, -0.27476744, ...,  0.        ,\n",
       "         1.        ,  0.        ],\n",
       "       [ 1.        ,  0.46265324, -0.37446708, ...,  1.        ,\n",
       "         0.        ,  0.        ],\n",
       "       [ 1.        , -0.67398867, -0.96447376, ...,  0.        ,\n",
       "         0.        ,  0.        ],\n",
       "       ...,\n",
       "       [ 0.        , -0.67398867, -0.81806383, ...,  0.        ,\n",
       "         1.        ,  0.        ],\n",
       "       [ 1.        , -0.67398867, -0.77646267, ...,  0.        ,\n",
       "         1.        ,  0.        ],\n",
       "       [ 0.        , -0.67398867,  1.92167401, ...,  0.        ,\n",
       "         1.        ,  0.        ]])"
      ]
     },
     "execution_count": 17,
     "metadata": {},
     "output_type": "execute_result"
    }
   ],
   "source": [
    "X = standardize(X,[1,2])\n",
    "X\n",
    "#standardizing the 2 numerical columns (n_products_viewed and visit_duration)"
   ]
  },
  {
   "cell_type": "code",
   "execution_count": 18,
   "metadata": {},
   "outputs": [
    {
     "data": {
      "text/plain": [
       "array([[ 0.79656335, -0.42133549,  0.8743829 ,  0.13211258, -1.23448104,\n",
       "        -0.09930986,  0.28804321, -0.88577931]])"
      ]
     },
     "execution_count": 18,
     "metadata": {},
     "output_type": "execute_result"
    }
   ],
   "source": [
    "W = np.random.randn(D)\n",
    "W = W.reshape(1,D)\n",
    "W\n",
    "#randomly selecting weights"
   ]
  },
  {
   "cell_type": "code",
   "execution_count": 19,
   "metadata": {},
   "outputs": [],
   "source": [
    "def sigmoid(z):\n",
    "    return 1/(1+np.exp(-z))\n",
    "#sigmoid function"
   ]
  },
  {
   "cell_type": "code",
   "execution_count": 20,
   "metadata": {},
   "outputs": [],
   "source": [
    "predictions = sigmoid(np.dot(W,X.T))"
   ]
  },
  {
   "cell_type": "code",
   "execution_count": 21,
   "metadata": {},
   "outputs": [
    {
     "data": {
      "text/plain": [
       "0.3969849246231156"
      ]
     },
     "execution_count": 21,
     "metadata": {},
     "output_type": "execute_result"
    }
   ],
   "source": [
    "np.mean(np.round(predictions) == targets)\n",
    "#initial accuracy of model"
   ]
  },
  {
   "cell_type": "code",
   "execution_count": 22,
   "metadata": {},
   "outputs": [
    {
     "data": {
      "text/plain": [
       "array([[ 2.23667282,  8.94168273, -1.67204811,  2.58528138, -4.07370185,\n",
       "        -4.0223233 , -4.84842388, -1.96846815]])"
      ]
     },
     "execution_count": 22,
     "metadata": {},
     "output_type": "execute_result"
    }
   ],
   "source": [
    "iteration_num = 10001\n",
    "a = 0.2\n",
    "while iteration_num > 0:\n",
    "    predictions = sigmoid(np.dot(W,X.T))\n",
    "    f_prime = np.dot((predictions - targets),X)\n",
    "    \n",
    "    W -= a*f_prime\n",
    "    iteration_num -= 1\n",
    "\n",
    "W\n",
    "#optimal weights"
   ]
  },
  {
   "cell_type": "code",
   "execution_count": 23,
   "metadata": {},
   "outputs": [
    {
     "data": {
      "text/plain": [
       "0.9547738693467337"
      ]
     },
     "execution_count": 23,
     "metadata": {},
     "output_type": "execute_result"
    }
   ],
   "source": [
    "np.mean(np.round(predictions) == targets)\n",
    "#accuracy of model after 10 000 iterations of gradient descent"
   ]
  },
  {
   "cell_type": "code",
   "execution_count": 26,
   "metadata": {},
   "outputs": [],
   "source": [
    "class Gradient_descent():\n",
    "    def sigmoid(z):\n",
    "            return 1/(1+ np.exp(-z))\n",
    "        \n",
    "    def __init__(self, feature_data, target_data, iteration_num, a):\n",
    "        N,D = feature_data.shape\n",
    "        W = np.random.randn(D)\n",
    "        W = W.reshape(1,D)\n",
    "        predictions = sigmoid(np.dot(W,feature_data.reshape(D,N)))\n",
    "        print(np.mean(np.round(predictions)== target_data))\n",
    "        \n",
    "        for i in range(iteration_num):\n",
    "            predictions = sigmoid(np.dot(W, feature_data.reshape(D,N)))\n",
    "            cost_derivative = np.dot((predictions - target_data),feature_data)\n",
    "            W -= a*cost_derivative\n",
    "            print(np.mean(np.round(predictions)== target_data))\n",
    "        print(W)\n",
    "        print(np.mean(np.round(predictions)== target_data))"
   ]
  },
  {
   "cell_type": "code",
   "execution_count": 27,
   "metadata": {},
   "outputs": [
    {
     "name": "stdout",
     "output_type": "stream",
     "text": [
      "0.5251256281407035\n",
      "0.5251256281407035\n",
      "0.49748743718592964\n",
      "0.5\n",
      "0.49748743718592964\n",
      "0.5100502512562815\n",
      "0.5125628140703518\n",
      "0.5125628140703518\n",
      "0.5125628140703518\n",
      "0.5125628140703518\n",
      "0.5125628140703518\n",
      "[[-30.19034506 303.70852694 -91.20033056 -40.955365   -38.89645629\n",
      "  -17.74358701   1.0593466  -24.25217564]]\n",
      "0.5125628140703518\n"
     ]
    }
   ],
   "source": [
    "W_opt = Gradient_descent(X, targets, 10, 0.2)"
   ]
  },
  {
   "cell_type": "code",
   "execution_count": null,
   "metadata": {},
   "outputs": [],
   "source": []
  }
 ],
 "metadata": {
  "kernelspec": {
   "display_name": "Python 3",
   "language": "python",
   "name": "python3"
  },
  "language_info": {
   "codemirror_mode": {
    "name": "ipython",
    "version": 3
   },
   "file_extension": ".py",
   "mimetype": "text/x-python",
   "name": "python",
   "nbconvert_exporter": "python",
   "pygments_lexer": "ipython3",
   "version": "3.6.5"
  }
 },
 "nbformat": 4,
 "nbformat_minor": 2
}
