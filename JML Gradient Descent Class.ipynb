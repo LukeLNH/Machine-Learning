{
 "cells": [
  {
   "cell_type": "code",
   "execution_count": 1,
   "metadata": {},
   "outputs": [],
   "source": [
    "class Gradient_descent():\n",
    "    def sigmoid(z):\n",
    "            return 1/(1+ np.exp(-z))\n",
    "        \n",
    "    def __init__(self, feature_data, target_data, iteration_num, a):\n",
    "        N,D = feature_data.shape\n",
    "        W = np.random.randn(D)\n",
    "        W = W.reshape(1,D)\n",
    "        \n",
    "        for i in range(iteration_num):\n",
    "            predictions = sigmoid(np.dot(W, feature_data.reshape(D,N)))\n",
    "            cost_derivative = np.dot((predictions - target_data),feature_data)\n",
    "            W -= a*cost_derivative\n",
    "        print(W)\n",
    "        print(np.mean(np.round(predictions)== target_data))"
   ]
  },
  {
   "cell_type": "markdown",
   "metadata": {},
   "source": [
    "Class assumes that data has already been preprocessed (standardized, one hot encoded, etc)\n"
   ]
  },
  {
   "cell_type": "code",
   "execution_count": null,
   "metadata": {},
   "outputs": [],
   "source": []
  }
 ],
 "metadata": {
  "kernelspec": {
   "display_name": "Python 3",
   "language": "python",
   "name": "python3"
  },
  "language_info": {
   "codemirror_mode": {
    "name": "ipython",
    "version": 3
   },
   "file_extension": ".py",
   "mimetype": "text/x-python",
   "name": "python",
   "nbconvert_exporter": "python",
   "pygments_lexer": "ipython3",
   "version": "3.6.5"
  }
 },
 "nbformat": 4,
 "nbformat_minor": 2
}
